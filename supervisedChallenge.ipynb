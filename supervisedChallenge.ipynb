{
 "cells": [
  {
   "cell_type": "markdown",
   "metadata": {},
   "source": [
    "# CompanyName Data Science Challenge\n",
    "\n",
    "An important application of data science at CompanyName is to protect our merchants from fraudulent transactions. Fraudulent transactions happen when a fraudster steals a legit customer's credit card, and uses it to unlawfully buy goods online. For this reason, CompanyName has a risk system in place that can refuse a transaction if it is suspected to be fraudulent. The overall goal is to reject as much fraud as possible, without compromising legit customers.\n",
    "\n",
    "CompanyName knows that a transaction was fraudulent when it receives a chargeback. A chargeback is a notification from the card network that the amount of the transaction must be refunded to the legit customer. A chargeback can only happen on approved payments (i.e. if it was refused by our risk system or by the bank, money doesn't get deducted from the legit customer's account, thus no chargebacks can happen).\n",
    "\n",
    "\n",
    "In this challenge, your goal is to train a model to predict which transaction might be fraudulent and improve CompanyName's risk system. What is important for our merchants is that the chargeback rate should at all time stay below 1%, while keeping revenue as high as possible. A chargeback costs them 15 EUR, +50% of the price of the goods (in the form of lost goods that they sent to the fraudster). While declining a transaction that turned out to be non-fraudulent (false positive) also costs them 50% of the price of the goods (in the form of missed revenue).\n",
    "\n",
    "## The dataset\n",
    "\n",
    "In the dataset provided you'll find 30 days of payment data for a few merchants, a merchant is a client for which we process payments, e.g. an e-commerce website, different merchants are not necessarly different companies.\n",
    "\n",
    "The dataset contains the following columns:\n",
    "\n",
    "| Field | Explanation|\n",
    "|:-----:| :------------------ |\n",
    "| merchant | The id of our client |\n",
    "| first_6_digit | The first 6 digit of the credit card used in the transaction which was recieved by our client |\n",
    "| payment_ref | The unique reference for this payment |\n",
    "| amount_eur | The amount in euros |\n",
    "| card_network | The network that emitted the card (shown as SchemeX, where X is variable)|\n",
    "| card_type | The type of card (debit,credit...)|\n",
    "| timestamp | The timestamp when this specific payment was received |\n",
    "| device_info | Information about the device used to perform the payment |\n",
    "| risk_checks | A list of lists, each sub-list contains a weight in first position and a rule (ID) in the second. The weight (which we call a risk score) which is assigned to each rule is directly proportional to the likelihood of the payment being fraudulent (negative: unlikely to be fraudulent, zero: check is performed but not seen as important, above zero: more likely to be fraudulent).  Merchants can create custom rules to flag some payments as fraudulent. The weight can also be assigned manually. Not all possible checks might be triggered by a payment (eg. a check might be relevant only for one country) so not all the possible checks are always present in the list, in other words, not all checks are the same for each datarow.|\n",
    "| refused_by_CompanyName_risk | Some of the risk-checks (rules) can force a payment to be refused; a refuse can also be caused by a predefined threshold on the risk-checks, such that if the score of the different rules exceed the threshold, the payment can be refused.|\n",
    "| refused_by_bank | A payment can also be refused by the bank for various reasons (lack of funds, card lost etc..)|\n",
    "| bank_country_id | The country ID of the bank |\n",
    "| user_id | The id of the user that is performing the payment, this can be used to identify users performing multiple payments. Usually a fraudulent payment is enough to identify the user as fraudster, this means that all of their payments can be considered fraudulent.   |\n",
    "| user_country_id | The country of the user that is performing the payment |\n",
    "| autorised_times | An array that contains up to 50 timestamps of the most recent accepted payments of this user on our platform. If there are no previously known approved payments of this user on our platform the array is empty. |\n",
    "| received_dates | An array that contains up to 50 timestamps of the most recent previously requested payments, populated only if the user has requested other payments on our platform before.|\n",
    "| billing_address_dates | An array which contains the timestamps when a payment request with a different billing address was received, an empty list means we never receveived a request with a different address.\n",
    "| delivery_address_dates | An array that will contain the timestamps when a payment request with a different delivery address was received, an empty list means we never receveived a request with a different delivery address.|\n",
    "| ip_dates | An array that will contain the timestamps when a payment request with a different ip address, compared to the first payment, was received; an empty list means we never receveived a request with a different address. This list can be seen as a set.|\n",
    "| is_fraud | Wether the payment was flagged as fraudulent. This happens when we receive a notification from the bank and can only happen for payments that were not already refused by CompanyName or by the bank.|\n",
    "\n",
    "\n",
    "## Aim of the Challenge \n",
    "\n",
    "The aim of this challenge is to understand how you approach both a new problem as a new dataset. In order to understand this process please include markdown cells in which you discuss your choices with regards to the data preparation and model choices.\n",
    "\n",
    "\n",
    "## Rules\n",
    "You can start working right in this Jupyter Notebook, save the results and send to submit it. The data which you will need is provided in different formats (csv, json, parquet), feel free to choose the one that is most convienent for you.\n",
    "\n",
    "(We will optionally accept submission in any other language/format as long as it comes with the full code and there is a clear explanation on how to execute it.)\n",
    "\n",
    "Also there are bonus points if you can make your model into a REST API.\n",
    "\n",
    "We kindly ask to submit your results within 48 hours since receiving this challenge.\n"
   ]
  },
  {
   "cell_type": "markdown",
   "metadata": {},
   "source": [
    "### Read the dataset"
   ]
  },
  {
   "cell_type": "code",
   "execution_count": 1,
   "metadata": {},
   "outputs": [],
   "source": [
    "from sklearn.model_selection import train_test_split, KFold, cross_val_score, ShuffleSplit, learning_curve\n",
    "from sklearn.linear_model import LogisticRegression\n",
    "from sklearn.tree import DecisionTreeClassifier\n",
    "from sklearn.metrics import roc_auc_score, roc_curve\n",
    "from imblearn.over_sampling import SMOTE\n",
    "\n",
    "import pandas as pd\n",
    "import numpy as np\n",
    "import pickle\n",
    "\n",
    "import seaborn as sns\n",
    "import matplotlib.pylab as plt\n",
    "sns.set()\n",
    "%matplotlib inline\n",
    "\n",
    "import warnings\n",
    "warnings.filterwarnings('ignore')"
   ]
  },
  {
   "cell_type": "markdown",
   "metadata": {},
   "source": [
    "In the instructions it is mentioned that when CompanyName or the bank reject the transaction, we will never see a chargeback.\n",
    "Since those transaction can thoritaclly be fraudlent it lead to a bias. Therefore, I have decided to remove all of those occurences.\n",
    "I see this model as some kind of a decorator on top of all the other rejects/models, which mean that this model will kick in only after CompanyName and the bank gave their prediction. "
   ]
  },
  {
   "cell_type": "code",
   "execution_count": 2,
   "metadata": {},
   "outputs": [],
   "source": [
    "rawData_pd = pd.read_json('SupervisedChallenge.json',orient='records',lines=True)\n",
    "cleanRawData_pd = rawData_pd[(rawData_pd['refused_by_bank']==0) & (rawData_pd['refused_by_CompanyName_risk']==0)]"
   ]
  },
  {
   "cell_type": "markdown",
   "metadata": {},
   "source": [
    "# Exploratory Analysis"
   ]
  },
  {
   "cell_type": "code",
   "execution_count": 3,
   "metadata": {},
   "outputs": [
    {
     "data": {
      "text/html": [
       "<div>\n",
       "<style scoped>\n",
       "    .dataframe tbody tr th:only-of-type {\n",
       "        vertical-align: middle;\n",
       "    }\n",
       "\n",
       "    .dataframe tbody tr th {\n",
       "        vertical-align: top;\n",
       "    }\n",
       "\n",
       "    .dataframe thead th {\n",
       "        text-align: right;\n",
       "    }\n",
       "</style>\n",
       "<table border=\"1\" class=\"dataframe\">\n",
       "  <thead>\n",
       "    <tr style=\"text-align: right;\">\n",
       "      <th></th>\n",
       "      <th>merchant</th>\n",
       "      <th>first_6_digits</th>\n",
       "      <th>payment_ref</th>\n",
       "      <th>amount_eur</th>\n",
       "      <th>card_network</th>\n",
       "      <th>card_type</th>\n",
       "      <th>timestamp</th>\n",
       "      <th>device</th>\n",
       "      <th>risk_checks</th>\n",
       "      <th>refused_by_CompanyName_risk</th>\n",
       "      <th>refused_by_bank</th>\n",
       "      <th>bank_country_id</th>\n",
       "      <th>user_id</th>\n",
       "      <th>user_country_id</th>\n",
       "      <th>authorised_times</th>\n",
       "      <th>received_dates</th>\n",
       "      <th>billing_address_dates</th>\n",
       "      <th>delivery_address_dates</th>\n",
       "      <th>ip_dates</th>\n",
       "      <th>is_fraud</th>\n",
       "    </tr>\n",
       "  </thead>\n",
       "  <tbody>\n",
       "    <tr>\n",
       "      <th>0</th>\n",
       "      <td>Shop8</td>\n",
       "      <td>96543.0</td>\n",
       "      <td>78089c3946037ca9</td>\n",
       "      <td>0.00</td>\n",
       "      <td>SchemeF</td>\n",
       "      <td>DEBIT</td>\n",
       "      <td>2016-03-16 23:12:52</td>\n",
       "      <td>[iPod, Mobile]</td>\n",
       "      <td>[[0, 82d8a3c9f6], [5, 6fe65e5dbc], [0, 5e9071e...</td>\n",
       "      <td>0</td>\n",
       "      <td>0</td>\n",
       "      <td>0.0</td>\n",
       "      <td>2.673933e+09</td>\n",
       "      <td>0.0</td>\n",
       "      <td>[1458087107, 1458087043]</td>\n",
       "      <td>[1458169910, 1458169865, 1458169860, 145816981...</td>\n",
       "      <td>[]</td>\n",
       "      <td>[]</td>\n",
       "      <td>[1458169910, 1458087107]</td>\n",
       "      <td>0</td>\n",
       "    </tr>\n",
       "    <tr>\n",
       "      <th>2</th>\n",
       "      <td>Shop2</td>\n",
       "      <td>535041.0</td>\n",
       "      <td>75517f4497a164e1</td>\n",
       "      <td>6.00</td>\n",
       "      <td>SchemeF</td>\n",
       "      <td>CREDIT</td>\n",
       "      <td>2016-03-20 21:24:54</td>\n",
       "      <td>None</td>\n",
       "      <td>[[-50, 82d8a3c9f6], [-100, c802faf604], [0, 7d...</td>\n",
       "      <td>0</td>\n",
       "      <td>0</td>\n",
       "      <td>2.0</td>\n",
       "      <td>2.238808e+09</td>\n",
       "      <td>2.0</td>\n",
       "      <td>[1450624829, 1450466297, 1450376979, 144585067...</td>\n",
       "      <td>[1458509094, 1450624829, 1450466297, 145037697...</td>\n",
       "      <td>[]</td>\n",
       "      <td>[]</td>\n",
       "      <td>[1458509094, 1450624829, 1450466297, 145037697...</td>\n",
       "      <td>0</td>\n",
       "    </tr>\n",
       "    <tr>\n",
       "      <th>3</th>\n",
       "      <td>Shop2</td>\n",
       "      <td>314986.0</td>\n",
       "      <td>aeecc3a05e7f472c</td>\n",
       "      <td>23.38</td>\n",
       "      <td>SchemeB</td>\n",
       "      <td>DEBIT</td>\n",
       "      <td>2016-04-12 21:00:15</td>\n",
       "      <td>[Windows, Desktop]</td>\n",
       "      <td>[[-80, 82d8a3c9f6], [30, 4c1c7b7377], [-100, c...</td>\n",
       "      <td>0</td>\n",
       "      <td>0</td>\n",
       "      <td>6.0</td>\n",
       "      <td>2.104261e+09</td>\n",
       "      <td>3.0</td>\n",
       "      <td>[1460494740, 1460494644, 1460494583, 146049447...</td>\n",
       "      <td>[1460494815, 1460494740, 1460494644, 146049458...</td>\n",
       "      <td>[]</td>\n",
       "      <td>[]</td>\n",
       "      <td>[1460494815, 1459523677, 1459293160, 145886088...</td>\n",
       "      <td>0</td>\n",
       "    </tr>\n",
       "    <tr>\n",
       "      <th>5</th>\n",
       "      <td>Shop2</td>\n",
       "      <td>893427.0</td>\n",
       "      <td>3de199afd69c4f31</td>\n",
       "      <td>64.00</td>\n",
       "      <td>SchemeI</td>\n",
       "      <td>CREDIT</td>\n",
       "      <td>2016-04-12 07:01:53</td>\n",
       "      <td>[Windows Mobile, Mobile]</td>\n",
       "      <td>[[-50, 82d8a3c9f6], [25, a21c28cbc9], [-100, c...</td>\n",
       "      <td>0</td>\n",
       "      <td>0</td>\n",
       "      <td>6.0</td>\n",
       "      <td>1.188328e+09</td>\n",
       "      <td>3.0</td>\n",
       "      <td>[1442253188, 1442253136, 1437764636, 143776114...</td>\n",
       "      <td>[1460444513, 1442253188, 1442253136, 143776463...</td>\n",
       "      <td>[]</td>\n",
       "      <td>[]</td>\n",
       "      <td>[1460444513, 1404146199]</td>\n",
       "      <td>0</td>\n",
       "    </tr>\n",
       "    <tr>\n",
       "      <th>6</th>\n",
       "      <td>Shop3</td>\n",
       "      <td>597316.0</td>\n",
       "      <td>fa2a97d79246bcce</td>\n",
       "      <td>3.50</td>\n",
       "      <td>SchemeF</td>\n",
       "      <td>DEBIT</td>\n",
       "      <td>2016-04-27 22:33:36</td>\n",
       "      <td>None</td>\n",
       "      <td>[[0, 82d8a3c9f6], [0, 7dc2bdd9d4], [70, cb61f1...</td>\n",
       "      <td>0</td>\n",
       "      <td>0</td>\n",
       "      <td>7.0</td>\n",
       "      <td>2.587504e+09</td>\n",
       "      <td>7.0</td>\n",
       "      <td>[1461786218, 1461755673, 1461715418, 146171327...</td>\n",
       "      <td>[1461796416, 1461786218, 1461755673, 146171541...</td>\n",
       "      <td>[]</td>\n",
       "      <td>[]</td>\n",
       "      <td>[1461796416, 1461786218, 1461755673, 1455451171]</td>\n",
       "      <td>0</td>\n",
       "    </tr>\n",
       "  </tbody>\n",
       "</table>\n",
       "</div>"
      ],
      "text/plain": [
       "  merchant  first_6_digits       payment_ref  amount_eur card_network  \\\n",
       "0    Shop8         96543.0  78089c3946037ca9        0.00      SchemeF   \n",
       "2    Shop2        535041.0  75517f4497a164e1        6.00      SchemeF   \n",
       "3    Shop2        314986.0  aeecc3a05e7f472c       23.38      SchemeB   \n",
       "5    Shop2        893427.0  3de199afd69c4f31       64.00      SchemeI   \n",
       "6    Shop3        597316.0  fa2a97d79246bcce        3.50      SchemeF   \n",
       "\n",
       "  card_type           timestamp                    device  \\\n",
       "0     DEBIT 2016-03-16 23:12:52            [iPod, Mobile]   \n",
       "2    CREDIT 2016-03-20 21:24:54                      None   \n",
       "3     DEBIT 2016-04-12 21:00:15        [Windows, Desktop]   \n",
       "5    CREDIT 2016-04-12 07:01:53  [Windows Mobile, Mobile]   \n",
       "6     DEBIT 2016-04-27 22:33:36                      None   \n",
       "\n",
       "                                         risk_checks  refused_by_CompanyName_risk  \\\n",
       "0  [[0, 82d8a3c9f6], [5, 6fe65e5dbc], [0, 5e9071e...                      0   \n",
       "2  [[-50, 82d8a3c9f6], [-100, c802faf604], [0, 7d...                      0   \n",
       "3  [[-80, 82d8a3c9f6], [30, 4c1c7b7377], [-100, c...                      0   \n",
       "5  [[-50, 82d8a3c9f6], [25, a21c28cbc9], [-100, c...                      0   \n",
       "6  [[0, 82d8a3c9f6], [0, 7dc2bdd9d4], [70, cb61f1...                      0   \n",
       "\n",
       "   refused_by_bank  bank_country_id       user_id  user_country_id  \\\n",
       "0                0              0.0  2.673933e+09              0.0   \n",
       "2                0              2.0  2.238808e+09              2.0   \n",
       "3                0              6.0  2.104261e+09              3.0   \n",
       "5                0              6.0  1.188328e+09              3.0   \n",
       "6                0              7.0  2.587504e+09              7.0   \n",
       "\n",
       "                                    authorised_times  \\\n",
       "0                           [1458087107, 1458087043]   \n",
       "2  [1450624829, 1450466297, 1450376979, 144585067...   \n",
       "3  [1460494740, 1460494644, 1460494583, 146049447...   \n",
       "5  [1442253188, 1442253136, 1437764636, 143776114...   \n",
       "6  [1461786218, 1461755673, 1461715418, 146171327...   \n",
       "\n",
       "                                      received_dates billing_address_dates  \\\n",
       "0  [1458169910, 1458169865, 1458169860, 145816981...                    []   \n",
       "2  [1458509094, 1450624829, 1450466297, 145037697...                    []   \n",
       "3  [1460494815, 1460494740, 1460494644, 146049458...                    []   \n",
       "5  [1460444513, 1442253188, 1442253136, 143776463...                    []   \n",
       "6  [1461796416, 1461786218, 1461755673, 146171541...                    []   \n",
       "\n",
       "  delivery_address_dates                                           ip_dates  \\\n",
       "0                     []                           [1458169910, 1458087107]   \n",
       "2                     []  [1458509094, 1450624829, 1450466297, 145037697...   \n",
       "3                     []  [1460494815, 1459523677, 1459293160, 145886088...   \n",
       "5                     []                           [1460444513, 1404146199]   \n",
       "6                     []   [1461796416, 1461786218, 1461755673, 1455451171]   \n",
       "\n",
       "   is_fraud  \n",
       "0         0  \n",
       "2         0  \n",
       "3         0  \n",
       "5         0  \n",
       "6         0  "
      ]
     },
     "execution_count": 3,
     "metadata": {},
     "output_type": "execute_result"
    }
   ],
   "source": [
    "cleanRawData_pd.head()"
   ]
  },
  {
   "cell_type": "code",
   "execution_count": 4,
   "metadata": {},
   "outputs": [
    {
     "data": {
      "text/plain": [
       "<matplotlib.axes._subplots.AxesSubplot at 0x117c95b98d0>"
      ]
     },
     "execution_count": 4,
     "metadata": {},
     "output_type": "execute_result"
    },
    {
     "data": {
      "image/png": "[encoded data removed]",
      "text/plain": [
       "<matplotlib.figure.Figure at 0x117c54aa978>"
      ]
     },
     "metadata": {},
     "output_type": "display_data"
    }
   ],
   "source": [
    "sns.countplot('is_fraud', data=cleanRawData_pd)"
   ]
  },
  {
   "cell_type": "markdown",
   "metadata": {},
   "source": [
    "In the chart we see that the dataset is heaveily unbalanced (which is usually the case for fraud detection), that will influence lots of our calculation, metrics, etc."
   ]
  },
  {
   "cell_type": "code",
   "execution_count": 5,
   "metadata": {},
   "outputs": [
    {
     "data": {
      "text/plain": [
       "<matplotlib.legend.Legend at 0x117cce06780>"
      ]
     },
     "execution_count": 5,
     "metadata": {},
     "output_type": "execute_result"
    },
    {
     "data": {
      "image/png": "[encoded data removed]",
      "text/plain": [
       "<matplotlib.figure.Figure at 0x117cc76b908>"
      ]
     },
     "metadata": {},
     "output_type": "display_data"
    }
   ],
   "source": [
    "fig, ax = plt.subplots(1, 2, figsize=(18,4))\n",
    "\n",
    "plotData_pd = cleanRawData_pd['amount_eur'][(cleanRawData_pd['is_fraud']==0)]\n",
    "sns.distplot(plotData_pd, label='normal', ax=ax[0])\n",
    "plotData_pd = cleanRawData_pd['amount_eur'][(cleanRawData_pd['is_fraud']==1)]\n",
    "sns.distplot(plotData_pd, label='fraud', ax=ax[0])\n",
    "ax[0].set_title('Distribution of Transaction Amount', fontsize=14)\n",
    "\n",
    "plotData_pd = np.log(cleanRawData_pd['amount_eur'][(cleanRawData_pd['is_fraud']==0)] + 1)\n",
    "sns.distplot(plotData_pd, label='normal', ax=ax[1], kde=False, norm_hist=True)\n",
    "plotData_pd = np.log(cleanRawData_pd['amount_eur'][(cleanRawData_pd['is_fraud']==1)] + 1)\n",
    "sns.distplot(plotData_pd, label='fraud', ax=ax[1], kde=False, norm_hist=True)\n",
    "ax[1].set_title('Distribution of log(Transaction Amount)', fontsize=14)\n",
    "ax[1].set_xlim(0,6)\n",
    "plt.xlabel('log(amount_eur + 1)')\n",
    "plt.legend()"
   ]
  },
  {
   "cell_type": "markdown",
   "metadata": {},
   "source": [
    "Fraud transactions tend to be with higher amount. In addition, we should use log(euro) instead of simple euro"
   ]
  },
  {
   "cell_type": "code",
   "execution_count": 6,
   "metadata": {},
   "outputs": [
    {
     "data": {
      "image/png": "[encoded data removed]",
      "text/plain": [
       "<matplotlib.figure.Figure at 0x117cc7279b0>"
      ]
     },
     "metadata": {},
     "output_type": "display_data"
    }
   ],
   "source": [
    "plt.figure(figsize=(15,4))\n",
    "\n",
    "plotData_pd = cleanRawData_pd.groupby('is_fraud')['user_country_id'].value_counts(normalize=True).reset_index(name='percent')\n",
    "chart = sns.barplot(data=plotData_pd, hue='is_fraud', x='user_country_id', y='percent')\n",
    "chart.set_xticklabels(chart.get_xticklabels(), rotation=45)\n",
    "plt.show()"
   ]
  },
  {
   "cell_type": "code",
   "execution_count": 7,
   "metadata": {},
   "outputs": [
    {
     "data": {
      "image/png": "[encoded data removed]",
      "text/plain": [
       "<matplotlib.figure.Figure at 0x117e0b3bd68>"
      ]
     },
     "metadata": {},
     "output_type": "display_data"
    }
   ],
   "source": [
    "plt.figure(figsize=(15,4))\n",
    "\n",
    "plotData_pd = cleanRawData_pd.groupby('is_fraud')['bank_country_id'].value_counts(normalize=True).reset_index(name='percent')\n",
    "chart = sns.barplot(data=plotData_pd, hue='is_fraud', x='bank_country_id', y='percent')\n",
    "chart.set_xticklabels(chart.get_xticklabels(), rotation=45)\n",
    "plt.show()"
   ]
  },
  {
   "cell_type": "markdown",
   "metadata": {},
   "source": [
    "We see two dominant countries, we can later reduce dimensions (countries)"
   ]
  },
  {
   "cell_type": "code",
   "execution_count": 8,
   "metadata": {},
   "outputs": [
    {
     "data": {
      "text/plain": [
       "<matplotlib.axes._subplots.AxesSubplot at 0x117e0de9710>"
      ]
     },
     "execution_count": 8,
     "metadata": {},
     "output_type": "execute_result"
    },
    {
     "data": {
      "image/png": "[encoded data removed]",
      "text/plain": [
       "<matplotlib.figure.Figure at 0x117cc727fd0>"
      ]
     },
     "metadata": {},
     "output_type": "display_data"
    }
   ],
   "source": [
    "plt.figure(figsize=(15,4))\n",
    "\n",
    "plotData_pd = cleanRawData_pd.groupby('is_fraud')['merchant'].value_counts(normalize=True).reset_index(name='percent')\n",
    "sns.barplot(data=plotData_pd, hue='is_fraud', x='merchant', y='percent')"
   ]
  },
  {
   "cell_type": "code",
   "execution_count": 9,
   "metadata": {},
   "outputs": [
    {
     "data": {
      "text/plain": [
       "<matplotlib.axes._subplots.AxesSubplot at 0x117cc7270b8>"
      ]
     },
     "execution_count": 9,
     "metadata": {},
     "output_type": "execute_result"
    },
    {
     "data": {
      "image/png": "[encoded data removed]",
      "text/plain": [
       "<matplotlib.figure.Figure at 0x117e2240240>"
      ]
     },
     "metadata": {},
     "output_type": "display_data"
    }
   ],
   "source": [
    "plt.figure(figsize=(15,4))\n",
    "\n",
    "plotData_pd = cleanRawData_pd.groupby('is_fraud')['card_type'].value_counts(normalize=True).reset_index(name='percent')\n",
    "sns.barplot(data=plotData_pd, hue='is_fraud', x='card_type', y='percent')"
   ]
  },
  {
   "cell_type": "code",
   "execution_count": 10,
   "metadata": {},
   "outputs": [
    {
     "data": {
      "text/plain": [
       "<matplotlib.axes._subplots.AxesSubplot at 0x117e1eb74e0>"
      ]
     },
     "execution_count": 10,
     "metadata": {},
     "output_type": "execute_result"
    },
    {
     "data": {
      "image/png": "[encoded data removed]",
      "text/plain": [
       "<matplotlib.figure.Figure at 0x117e0fd5dd8>"
      ]
     },
     "metadata": {},
     "output_type": "display_data"
    }
   ],
   "source": [
    "plt.figure(figsize=(15,4))\n",
    "\n",
    "plotData_pd = cleanRawData_pd.groupby('is_fraud')['card_network'].value_counts(normalize=True).reset_index(name='percent')\n",
    "sns.barplot(data=plotData_pd, hue='is_fraud', x='card_network', y='percent')"
   ]
  },
  {
   "cell_type": "markdown",
   "metadata": {},
   "source": [
    "# Feature Engineering"
   ]
  },
  {
   "cell_type": "code",
   "execution_count": 11,
   "metadata": {},
   "outputs": [
    {
     "data": {
      "text/plain": [
       "<matplotlib.axes._subplots.AxesSubplot at 0x117e0083940>"
      ]
     },
     "execution_count": 11,
     "metadata": {},
     "output_type": "execute_result"
    },
    {
     "data": {
      "image/png": "[encoded data removed]",
      "text/plain": [
       "<matplotlib.figure.Figure at 0x117e0da7860>"
      ]
     },
     "metadata": {},
     "output_type": "display_data"
    }
   ],
   "source": [
    "# Adding a feature of user country and bank country are the same\n",
    "\n",
    "cleanRawData_pd['same_country'] = cleanRawData_pd['bank_country_id']==cleanRawData_pd['user_country_id']\n",
    "\n",
    "# Visual of the new feature\n",
    "plt.figure(figsize=(15,4))\n",
    "\n",
    "plotData_pd = cleanRawData_pd.groupby('is_fraud')['same_country'].value_counts(normalize=True).reset_index(name='percent')\n",
    "sns.barplot(data=plotData_pd, hue='is_fraud', x='same_country', y='percent')"
   ]
  },
  {
   "cell_type": "code",
   "execution_count": 12,
   "metadata": {},
   "outputs": [
    {
     "data": {
      "text/plain": [
       "<matplotlib.axes._subplots.AxesSubplot at 0x117cc557f60>"
      ]
     },
     "execution_count": 12,
     "metadata": {},
     "output_type": "execute_result"
    },
    {
     "data": {
      "image/png": "[encoded data removed]",
      "text/plain": [
       "<matplotlib.figure.Figure at 0x117e2ab27b8>"
      ]
     },
     "metadata": {},
     "output_type": "display_data"
    }
   ],
   "source": [
    "# Creating a compressed country column to reduce features\n",
    "\n",
    "cleanRawData_pd['country'] = np.where(cleanRawData_pd['user_country_id'] == 6,'6',\n",
    "                                      np.where(cleanRawData_pd['user_country_id'] == 45,'45','other_country'))\n",
    "\n",
    "# Visual of the new feature\n",
    "plt.figure(figsize=(15,4))\n",
    "\n",
    "plotData_pd = cleanRawData_pd.groupby('is_fraud')['country'].value_counts(normalize=True).reset_index(name='percent')\n",
    "sns.barplot(data=plotData_pd, hue='is_fraud', x='country', y='percent')"
   ]
  },
  {
   "cell_type": "code",
   "execution_count": 13,
   "metadata": {},
   "outputs": [],
   "source": [
    "# Creating a log(Euro) feature as seen at the beginning of the notebook\n",
    "cleanRawData_pd['log_euro'] = np.log(cleanRawData_pd['amount_eur'] + 1)"
   ]
  },
  {
   "cell_type": "markdown",
   "metadata": {},
   "source": [
    "# Modelling and Validation\n",
    "\n",
    "\n",
    "As we have seen in the start of the project the dataset is heavily unbalanced. There are 2 main ways to address this issue, under sample and over sample. <br>\n",
    "In this phase of the project I will use both methodologies to check perfomance of the model.\n",
    "\n",
    "### Random Under Sampling\n",
    "\n",
    "Random Under Sampling is basically removing data in order to have a more balanced dataset and thus avoiding our models to overfitting."
   ]
  },
  {
   "cell_type": "code",
   "execution_count": 14,
   "metadata": {},
   "outputs": [
    {
     "data": {
      "text/html": [
       "<div>\n",
       "<style scoped>\n",
       "    .dataframe tbody tr th:only-of-type {\n",
       "        vertical-align: middle;\n",
       "    }\n",
       "\n",
       "    .dataframe tbody tr th {\n",
       "        vertical-align: top;\n",
       "    }\n",
       "\n",
       "    .dataframe thead th {\n",
       "        text-align: right;\n",
       "    }\n",
       "</style>\n",
       "<table border=\"1\" class=\"dataframe\">\n",
       "  <thead>\n",
       "    <tr style=\"text-align: right;\">\n",
       "      <th></th>\n",
       "      <th>log_euro</th>\n",
       "      <th>is_fraud</th>\n",
       "      <th>same_country</th>\n",
       "      <th>merchant_Shop2</th>\n",
       "      <th>merchant_Shop3</th>\n",
       "      <th>merchant_Shop4</th>\n",
       "      <th>merchant_Shop5</th>\n",
       "      <th>merchant_Shop6</th>\n",
       "      <th>merchant_Shop7</th>\n",
       "      <th>merchant_Shop8</th>\n",
       "      <th>...</th>\n",
       "      <th>card_network_SchemeFA</th>\n",
       "      <th>card_network_SchemeFB</th>\n",
       "      <th>card_network_SchemeG</th>\n",
       "      <th>card_network_SchemeI</th>\n",
       "      <th>card_network_SchemeIA</th>\n",
       "      <th>card_type_DEBIT</th>\n",
       "      <th>card_type_DEFFERED_DEBIT</th>\n",
       "      <th>card_type_PREPAID</th>\n",
       "      <th>country_6</th>\n",
       "      <th>country_other_country</th>\n",
       "    </tr>\n",
       "  </thead>\n",
       "  <tbody>\n",
       "    <tr>\n",
       "      <th>0</th>\n",
       "      <td>0.000000</td>\n",
       "      <td>0</td>\n",
       "      <td>True</td>\n",
       "      <td>0</td>\n",
       "      <td>0</td>\n",
       "      <td>0</td>\n",
       "      <td>0</td>\n",
       "      <td>0</td>\n",
       "      <td>0</td>\n",
       "      <td>1</td>\n",
       "      <td>...</td>\n",
       "      <td>0</td>\n",
       "      <td>0</td>\n",
       "      <td>0</td>\n",
       "      <td>0</td>\n",
       "      <td>0</td>\n",
       "      <td>1</td>\n",
       "      <td>0</td>\n",
       "      <td>0</td>\n",
       "      <td>0</td>\n",
       "      <td>1</td>\n",
       "    </tr>\n",
       "    <tr>\n",
       "      <th>2</th>\n",
       "      <td>1.945910</td>\n",
       "      <td>0</td>\n",
       "      <td>True</td>\n",
       "      <td>1</td>\n",
       "      <td>0</td>\n",
       "      <td>0</td>\n",
       "      <td>0</td>\n",
       "      <td>0</td>\n",
       "      <td>0</td>\n",
       "      <td>0</td>\n",
       "      <td>...</td>\n",
       "      <td>0</td>\n",
       "      <td>0</td>\n",
       "      <td>0</td>\n",
       "      <td>0</td>\n",
       "      <td>0</td>\n",
       "      <td>0</td>\n",
       "      <td>0</td>\n",
       "      <td>0</td>\n",
       "      <td>0</td>\n",
       "      <td>1</td>\n",
       "    </tr>\n",
       "    <tr>\n",
       "      <th>3</th>\n",
       "      <td>3.193763</td>\n",
       "      <td>0</td>\n",
       "      <td>False</td>\n",
       "      <td>1</td>\n",
       "      <td>0</td>\n",
       "      <td>0</td>\n",
       "      <td>0</td>\n",
       "      <td>0</td>\n",
       "      <td>0</td>\n",
       "      <td>0</td>\n",
       "      <td>...</td>\n",
       "      <td>0</td>\n",
       "      <td>0</td>\n",
       "      <td>0</td>\n",
       "      <td>0</td>\n",
       "      <td>0</td>\n",
       "      <td>1</td>\n",
       "      <td>0</td>\n",
       "      <td>0</td>\n",
       "      <td>0</td>\n",
       "      <td>1</td>\n",
       "    </tr>\n",
       "    <tr>\n",
       "      <th>5</th>\n",
       "      <td>4.174387</td>\n",
       "      <td>0</td>\n",
       "      <td>False</td>\n",
       "      <td>1</td>\n",
       "      <td>0</td>\n",
       "      <td>0</td>\n",
       "      <td>0</td>\n",
       "      <td>0</td>\n",
       "      <td>0</td>\n",
       "      <td>0</td>\n",
       "      <td>...</td>\n",
       "      <td>0</td>\n",
       "      <td>0</td>\n",
       "      <td>0</td>\n",
       "      <td>1</td>\n",
       "      <td>0</td>\n",
       "      <td>0</td>\n",
       "      <td>0</td>\n",
       "      <td>0</td>\n",
       "      <td>0</td>\n",
       "      <td>1</td>\n",
       "    </tr>\n",
       "    <tr>\n",
       "      <th>6</th>\n",
       "      <td>1.504077</td>\n",
       "      <td>0</td>\n",
       "      <td>True</td>\n",
       "      <td>0</td>\n",
       "      <td>1</td>\n",
       "      <td>0</td>\n",
       "      <td>0</td>\n",
       "      <td>0</td>\n",
       "      <td>0</td>\n",
       "      <td>0</td>\n",
       "      <td>...</td>\n",
       "      <td>0</td>\n",
       "      <td>0</td>\n",
       "      <td>0</td>\n",
       "      <td>0</td>\n",
       "      <td>0</td>\n",
       "      <td>1</td>\n",
       "      <td>0</td>\n",
       "      <td>0</td>\n",
       "      <td>0</td>\n",
       "      <td>1</td>\n",
       "    </tr>\n",
       "  </tbody>\n",
       "</table>\n",
       "<p>5 rows × 24 columns</p>\n",
       "</div>"
      ],
      "text/plain": [
       "   log_euro  is_fraud  same_country  merchant_Shop2  merchant_Shop3  \\\n",
       "0  0.000000         0          True               0               0   \n",
       "2  1.945910         0          True               1               0   \n",
       "3  3.193763         0         False               1               0   \n",
       "5  4.174387         0         False               1               0   \n",
       "6  1.504077         0          True               0               1   \n",
       "\n",
       "   merchant_Shop4  merchant_Shop5  merchant_Shop6  merchant_Shop7  \\\n",
       "0               0               0               0               0   \n",
       "2               0               0               0               0   \n",
       "3               0               0               0               0   \n",
       "5               0               0               0               0   \n",
       "6               0               0               0               0   \n",
       "\n",
       "   merchant_Shop8  ...  card_network_SchemeFA  card_network_SchemeFB  \\\n",
       "0               1  ...                      0                      0   \n",
       "2               0  ...                      0                      0   \n",
       "3               0  ...                      0                      0   \n",
       "5               0  ...                      0                      0   \n",
       "6               0  ...                      0                      0   \n",
       "\n",
       "   card_network_SchemeG  card_network_SchemeI  card_network_SchemeIA  \\\n",
       "0                     0                     0                      0   \n",
       "2                     0                     0                      0   \n",
       "3                     0                     0                      0   \n",
       "5                     0                     1                      0   \n",
       "6                     0                     0                      0   \n",
       "\n",
       "   card_type_DEBIT  card_type_DEFFERED_DEBIT  card_type_PREPAID  country_6  \\\n",
       "0                1                         0                  0          0   \n",
       "2                0                         0                  0          0   \n",
       "3                1                         0                  0          0   \n",
       "5                0                         0                  0          0   \n",
       "6                1                         0                  0          0   \n",
       "\n",
       "   country_other_country  \n",
       "0                      1  \n",
       "2                      1  \n",
       "3                      1  \n",
       "5                      1  \n",
       "6                      1  \n",
       "\n",
       "[5 rows x 24 columns]"
      ]
     },
     "execution_count": 14,
     "metadata": {},
     "output_type": "execute_result"
    }
   ],
   "source": [
    "features = ['merchant',\n",
    "           'log_euro',\n",
    "           'card_network',\n",
    "           'card_type',\n",
    "           'same_country',\n",
    "           'country']\n",
    "\n",
    "# one hot encoder for the categorical features\n",
    "categoricalFeatures = ['merchant', \n",
    "                       'card_network',\n",
    "                       'card_type',\n",
    "                       'same_country',\n",
    "                       'country']\n",
    "\n",
    "encodedVariables = pd.get_dummies(cleanRawData_pd.loc[:, categoricalFeatures], prefix_sep='_', drop_first=True)\n",
    "encodedCleanRawData_pd = pd.concat([cleanRawData_pd[list(features) + ['is_fraud']].drop(categoricalFeatures, 1), encodedVariables], axis=1)\n",
    "\n",
    "encodedCleanRawData_pd.head()"
   ]
  },
  {
   "cell_type": "code",
   "execution_count": 15,
   "metadata": {},
   "outputs": [
    {
     "data": {
      "text/plain": [
       "<matplotlib.axes._subplots.AxesSubplot at 0x117e36c9dd8>"
      ]
     },
     "execution_count": 15,
     "metadata": {},
     "output_type": "execute_result"
    },
    {
     "data": {
      "image/png": "[encoded data removed]",
      "text/plain": [
       "<matplotlib.figure.Figure at 0x117e35cc710>"
      ]
     },
     "metadata": {},
     "output_type": "display_data"
    }
   ],
   "source": [
    "fraud_pd = encodedCleanRawData_pd[encodedCleanRawData_pd['is_fraud'] == 1]\n",
    "nonFraud_pd = encodedCleanRawData_pd[encodedCleanRawData_pd['is_fraud'] == 0].sample(n=len(fraud_pd), random_state = 42)\n",
    "\n",
    "encodedUnderSampleTransactions_pd = pd.concat([fraud_pd, nonFraud_pd]).sample(frac=1, random_state=42)\n",
    "sns.countplot('is_fraud', data=encodedUnderSampleTransactions_pd)"
   ]
  },
  {
   "cell_type": "markdown",
   "metadata": {},
   "source": [
    "In the next section we plot the learning curve of both logistic regression and decision tree models. <br>\n",
    "We see that log reg get higer score. <br>"
   ]
  },
  {
   "cell_type": "code",
   "execution_count": 16,
   "metadata": {},
   "outputs": [
    {
     "data": {
      "text/plain": [
       "<matplotlib.legend.Legend at 0x117e3bee390>"
      ]
     },
     "execution_count": 16,
     "metadata": {},
     "output_type": "execute_result"
    },
    {
     "data": {
      "image/png": "[encoded data removed]",
      "text/plain": [
       "<matplotlib.figure.Figure at 0x117e3919ba8>"
      ]
     },
     "metadata": {},
     "output_type": "display_data"
    }
   ],
   "source": [
    "X_train = encodedUnderSampleTransactions_pd.drop('is_fraud', axis=1)                                                  \n",
    "y_train = encodedUnderSampleTransactions_pd['is_fraud']\n",
    "\n",
    "f, (ax1, ax2) = plt.subplots(1,2, figsize=(16,5), sharey=True)\n",
    "plt.ylim(0,1)\n",
    "# Logistic Regression\n",
    "train_sizes, train_scores, test_scores = learning_curve(LogisticRegression(random_state=42), X_train, y_train)\n",
    "train_scores_mean = np.mean(train_scores, axis=1)\n",
    "train_scores_std = np.std(train_scores, axis=1)\n",
    "test_scores_mean = np.mean(test_scores, axis=1)\n",
    "test_scores_std = np.std(test_scores, axis=1)\n",
    "ax1.fill_between(train_sizes, train_scores_mean - train_scores_std,\n",
    "                 train_scores_mean + train_scores_std, alpha=0.1,\n",
    "                 color=\"#ff9124\")\n",
    "ax1.fill_between(train_sizes, test_scores_mean - test_scores_std,\n",
    "                 test_scores_mean + test_scores_std, alpha=0.1, color=\"#2492ff\")\n",
    "ax1.plot(train_sizes, train_scores_mean, 'o-', color=\"#ff9124\",\n",
    "         label=\"Training score\")\n",
    "ax1.plot(train_sizes, test_scores_mean, 'o-', color=\"#2492ff\",\n",
    "         label=\"Cross-validation score\")\n",
    "ax1.set_title(\"Logistic Regression \\n Learning Curve\", fontsize=14)\n",
    "ax1.set_xlabel('Training size')\n",
    "ax1.set_ylabel('Score')\n",
    "ax1.grid(True)\n",
    "ax1.legend(loc=\"best\")\n",
    "\n",
    "# Decision Tree\n",
    "train_sizes, train_scores, test_scores = learning_curve(DecisionTreeClassifier(random_state=42), X_train, y_train)\n",
    "train_scores_mean = np.mean(train_scores, axis=1)\n",
    "train_scores_std = np.std(train_scores, axis=1)\n",
    "test_scores_mean = np.mean(test_scores, axis=1)\n",
    "test_scores_std = np.std(test_scores, axis=1)\n",
    "ax2.fill_between(train_sizes, train_scores_mean - train_scores_std,\n",
    "                 train_scores_mean + train_scores_std, alpha=0.1,\n",
    "                 color=\"#ff9124\")\n",
    "ax2.fill_between(train_sizes, test_scores_mean - test_scores_std,\n",
    "                 test_scores_mean + test_scores_std, alpha=0.1, color=\"#2492ff\")\n",
    "ax2.plot(train_sizes, train_scores_mean, 'o-', color=\"#ff9124\",\n",
    "         label=\"Training score\")\n",
    "ax2.plot(train_sizes, test_scores_mean, 'o-', color=\"#2492ff\",\n",
    "         label=\"Cross-validation score\")\n",
    "ax2.set_title(\"Decision Tree Classifier \\n Learning Curve\", fontsize=14)\n",
    "ax2.set_xlabel('Training size')\n",
    "ax2.set_ylabel('Score')\n",
    "ax2.grid(True)\n",
    "ax2.legend(loc=\"best\")"
   ]
  },
  {
   "cell_type": "markdown",
   "metadata": {},
   "source": [
    "In the above charts we see that the decision tree is clearly overfitting, while log reg produce passable results. "
   ]
  },
  {
   "cell_type": "markdown",
   "metadata": {},
   "source": [
    "### Over sample using SMOTE"
   ]
  },
  {
   "cell_type": "markdown",
   "metadata": {},
   "source": [
    "In this section we will try over sample instead of under sample. The main benfit of this method is that there is no information loss. However, we should be very careful not to \"bleed\" information from train to validation and test."
   ]
  },
  {
   "cell_type": "code",
   "execution_count": 17,
   "metadata": {},
   "outputs": [],
   "source": [
    "X_train, X_test, y_train, y_test = train_test_split(encodedCleanRawData_pd.drop('is_fraud', axis=1), \n",
    "                                                  encodedCleanRawData_pd['is_fraud'], \n",
    "                                                  test_size = .1, \n",
    "                                                  random_state=42)"
   ]
  },
  {
   "cell_type": "code",
   "execution_count": 18,
   "metadata": {},
   "outputs": [],
   "source": [
    "x_train, x_val, y_train, y_val = train_test_split(X_train, \n",
    "                                                  y_train, \n",
    "                                                  test_size = .1, \n",
    "                                                  random_state=42)"
   ]
  },
  {
   "cell_type": "code",
   "execution_count": 19,
   "metadata": {},
   "outputs": [],
   "source": [
    "sm = SMOTE(random_state=42)\n",
    "x_train_res, y_train_res = sm.fit_sample(x_train, y_train)"
   ]
  },
  {
   "cell_type": "code",
   "execution_count": 20,
   "metadata": {},
   "outputs": [
    {
     "data": {
      "text/plain": [
       "<matplotlib.axes._subplots.AxesSubplot at 0x117e38bb6d8>"
      ]
     },
     "execution_count": 20,
     "metadata": {},
     "output_type": "execute_result"
    },
    {
     "data": {
      "image/png": "[encoded data removed]",
      "text/plain": [
       "<matplotlib.figure.Figure at 0x117e3ae82e8>"
      ]
     },
     "metadata": {},
     "output_type": "display_data"
    }
   ],
   "source": [
    "sns.countplot('is_fraud', data=pd.DataFrame(y_train_res))"
   ]
  },
  {
   "cell_type": "code",
   "execution_count": 21,
   "metadata": {},
   "outputs": [
    {
     "data": {
      "text/plain": [
       "<matplotlib.legend.Legend at 0x117e3ff9b38>"
      ]
     },
     "execution_count": 21,
     "metadata": {},
     "output_type": "execute_result"
    },
    {
     "data": {
      "image/png": "[encoded data removed]",
      "text/plain": [
       "<matplotlib.figure.Figure at 0x117e3878a90>"
      ]
     },
     "metadata": {},
     "output_type": "display_data"
    }
   ],
   "source": [
    "logReg_clf = LogisticRegression(random_state=42).fit(x_train_res, y_train_res)\n",
    "tree_clf = DecisionTreeClassifier(random_state=42).fit(x_train_res, y_train_res)\n",
    "\n",
    "logReg_pred = logReg_clf.predict_proba(x_val)[:,1]\n",
    "tree_pred = tree_clf.predict_proba(x_val)[:,1]\n",
    "\n",
    "log_fpr, log_tpr, log_thresold = roc_curve(y_val, logReg_pred)\n",
    "tree_fpr, tree_tpr, tree_threshold = roc_curve(y_val, tree_pred)\n",
    "\n",
    "plt.figure(figsize=(8,5))\n",
    "plt.title('ROC Curve\\n(Validation Set)', fontsize=18)\n",
    "plt.plot(log_fpr, log_tpr, label='Logistic Regression Classifier Score: {:.4f}'.format(roc_auc_score(y_val, logReg_pred)))\n",
    "plt.plot(tree_fpr, tree_tpr, label='Decision Tree Classifier Score: {:.4f}'.format(roc_auc_score(y_val, tree_pred)))\n",
    "plt.plot([0, 1], [0, 1], 'k--')\n",
    "plt.axis([-0.01, 1, 0, 1])\n",
    "plt.xlabel('False Positive Rate', fontsize=10)\n",
    "plt.ylabel('True Positive Rate', fontsize=10)\n",
    "plt.legend()"
   ]
  },
  {
   "cell_type": "markdown",
   "metadata": {},
   "source": [
    "# Threshold\n",
    "\n",
    "True Positive income - goods price <br>\n",
    "True Negative costs - costs of blocking a fraud user (0 Euro) <br>\n",
    "False Positive costs - cost of blocking a legitimate transaction (50% * goods price) <br>\n",
    "False Negative costs - cost of, unblocking a fraduelent transaction, chargeback  (50% * goods price + 15 Euro) <br>\n",
    "\n",
    "Net Revenue = <br>\n",
    "(# of TP True Positive income) + <br>\n",
    "(# of FP False Positive costs) + <br>\n",
    "(# of FN False Negative costs) +"
   ]
  },
  {
   "cell_type": "code",
   "execution_count": 22,
   "metadata": {},
   "outputs": [
    {
     "name": "stdout",
     "output_type": "stream",
     "text": [
      "Since we want to keep TPR at least 99%, our threshold should be:  30.14 %\n",
      "(Based on validation dataset)\n"
     ]
    }
   ],
   "source": [
    "logRegTest_pred = logReg_clf.predict_proba(x_val)[:,1]\n",
    "\n",
    "fpr, tpr, thresholds = roc_curve(y_val, logRegTest_pred)\n",
    "result = np.where(tpr >= 0.99)[0][0]\n",
    "print(\"Since we want to keep TPR at least 99%, our threshold should be: \", round((thresholds[result]), 4) * 100, \"%\")\n",
    "print(\"(Based on validation dataset)\")"
   ]
  },
  {
   "cell_type": "markdown",
   "metadata": {},
   "source": [
    "# Predict Class\n",
    "Here I will start with pickle all the relevant objects, and build a fraud class that will later will be translated to an API"
   ]
  },
  {
   "cell_type": "code",
   "execution_count": 23,
   "metadata": {},
   "outputs": [],
   "source": [
    "pickle.dump(logReg_clf, open('log_reg_model_v1.pickle', 'wb'))\n",
    "pickle.dump(features, open('features.pickle', 'wb'))\n",
    "pickle.dump(encodedVariables.columns, open('encodedVariables.pickle', 'wb'))\n",
    "pickle.dump(thresholds[result], open('thresholds.pickle', 'wb'))"
   ]
  },
  {
   "cell_type": "code",
   "execution_count": 24,
   "metadata": {},
   "outputs": [],
   "source": [
    "class fraudModel:\n",
    "    def __init__(self):\n",
    "        self.model = pickle.load(open('./log_reg_model_v1.pickle', 'rb'))\n",
    "        self.features = pickle.load(open('./features.pickle', 'rb'))\n",
    "        self.categoricalFeatures = ['merchant', \n",
    "                       'card_network',\n",
    "                       'card_type',\n",
    "                       'same_country',\n",
    "                       'country']\n",
    "        self.encodedCategoricalFeatures = pickle.load(open('./encodedVariables.pickle', 'rb'))\n",
    "        self.threshold = pickle.load(open('./thresholds.pickle', 'rb'))\n",
    "\n",
    "    def featureEncode(self):\n",
    "        self.log_euro = np.log(1+self.euro)\n",
    "        self.same_country = self.bank_country_id==self.user_country_id\n",
    "        if self.user_country_id in [6, 45]:\n",
    "            self.country = str(self.user_country_id)\n",
    "        else:\n",
    "            self.country = 'other_country'\n",
    "        row_pd = pd.DataFrame([{'log_euro':self.log_euro,\n",
    "              'merchant':self.merchant,\n",
    "              'card_network':self.card_network,\n",
    "              'card_type':self.card_type,\n",
    "              'same_country':self.same_country,\n",
    "              'country':self.country\n",
    "             }])\n",
    "        encodedrow_pd = pd.get_dummies(row_pd.loc[:, self.categoricalFeatures], prefix_sep='_')\n",
    "        encoded_features = encodedrow_pd.reindex(columns = self.encodedCategoricalFeatures, fill_value=0)\n",
    "        encodedrow_pd = pd.concat([row_pd[list(self.features)].drop(self.categoricalFeatures, 1), encoded_features], axis=1)\n",
    "        return encodedrow_pd\n",
    "\n",
    "    def predict(self, euro, card_network, card_type, bank_country_id, user_country_id, merchant):\n",
    "        self.euro = euro\n",
    "        self.merchant = merchant\n",
    "        self.card_network = card_network\n",
    "        self.card_type = card_type\n",
    "        self.bank_country_id = card_network\n",
    "        self.user_country_id = user_country_id\n",
    "        row_pd = self.featureEncode()\n",
    "        if self.model.predict_proba(row_pd)[:,1] >= self.threshold:\n",
    "            return 1\n",
    "        else:\n",
    "            return 0"
   ]
  },
  {
   "cell_type": "markdown",
   "metadata": {},
   "source": [
    "Exmple of using the class with random row from the original dataset\n"
   ]
  },
  {
   "cell_type": "code",
   "execution_count": 25,
   "metadata": {},
   "outputs": [],
   "source": [
    "rawDataForTest_pd = pd.read_json('SupervisedChallenge.json',orient='records',lines=True)"
   ]
  },
  {
   "cell_type": "code",
   "execution_count": 26,
   "metadata": {},
   "outputs": [
    {
     "data": {
      "text/plain": [
       "0"
      ]
     },
     "execution_count": 26,
     "metadata": {},
     "output_type": "execute_result"
    }
   ],
   "source": [
    "# Exmple of using the class with random row from the original dataset\n",
    "randRow_pd = rawDataForTest_pd.sample(1)\n",
    "\n",
    "fraudModel().predict(euro = randRow_pd.amount_eur.values[0], \n",
    "                     card_network = randRow_pd.card_network.values[0], \n",
    "                     card_type = randRow_pd.card_type.values[0], \n",
    "                     bank_country_id = randRow_pd.bank_country_id.values[0], \n",
    "                     user_country_id = randRow_pd.user_country_id.values[0], \n",
    "                     merchant = randRow_pd['merchant'].values[0])"
   ]
  },
  {
   "cell_type": "markdown",
   "metadata": {},
   "source": [
    "# Follow ups\n",
    "\n",
    "That was a nice exercise, thanks.<br>\n",
    "Due to lack of time I was reluctant to finish my plans. However, I hope this demonstrate well enough my skills :-)<br>\n",
    "Anyway here is an outline of things I had in mind to add:\n",
    "* check more models (random forest, xgboost, etc.)\n",
    "* hyperparameter tuning with grid search\n",
    "* add more features \n",
    "    * I've ignored completely the risk tests, which I guess can add lots of information\n",
    "    * interaction between features (e.g card type and card network)\n",
    "* Threshold - I've used (transaction) count, I would investigate (transaction) value threshold  \n",
    "* Making the REST API more \"production ready\""
   ]
  }
 ],
 "metadata": {
  "kernelspec": {
   "display_name": "Python 3",
   "language": "python",
   "name": "python3"
  },
  "language_info": {
   "codemirror_mode": {
    "name": "ipython",
    "version": 3
   },
   "file_extension": ".py",
   "mimetype": "text/x-python",
   "name": "python",
   "nbconvert_exporter": "python",
   "pygments_lexer": "ipython3",
   "version": "3.6.3"
  }
 },
 "nbformat": 4,
 "nbformat_minor": 2
}
